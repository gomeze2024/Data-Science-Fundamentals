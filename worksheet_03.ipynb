{
 "cells": [
  {
   "cell_type": "markdown",
   "metadata": {},
   "source": [
    "# Worksheet 03\n",
    "\n",
    "Name: Emmalee Gomez  \n",
    "UID: U76971767\n",
    "\n",
    "### Topics\n",
    "\n",
    "- Intro to DS\n",
    "\n",
    "### Linear Algebra Review\n",
    "\n",
    "If you need a linear algebra review, please read through the [following pdf](https://github.com/gallettilance/CS506-Spring2023/raw/main/worksheets/lecture_03_linear_algebra_review.pdf) before next class\n",
    "\n",
    "### Intro to Data Science\n",
    "\n",
    "a) what property must a hypothesis have?"
   ]
  },
  {
   "cell_type": "markdown",
   "metadata": {},
   "source": [
    "Both positive and negative examples can falsify a hypothesis."
   ]
  },
  {
   "cell_type": "markdown",
   "metadata": {},
   "source": [
    "b) what examples would you have wanted to try?"
   ]
  },
  {
   "cell_type": "markdown",
   "metadata": {},
   "source": [
    "- $1, 2, 3$ -> Do the numbers have to be increasing by 2?\n",
    "- $1, 7, 9$ -> Do the numbers have to be increasing by a constant value?\n",
    "- $8, 6, 4$ -> Can the numbers be decreasing?\n",
    "- $3, 1, 5$ -> What if the number in the middle is not the greatest?  \n",
    "- $\\infty, \\infty + 2, \\infty + 4$ -> Does the rule have a range\n",
    "- $-\\infty, -\\infty + 2, -\\infty + 4$ -> Can the rule be negative?  \n",
    "Where infinity is a really higher number but defined.  \n",
    "- $1.1, 1.3, 1.5$ -> Do the numbers have to be integers?"
   ]
  },
  {
   "cell_type": "markdown",
   "metadata": {},
   "source": [
    "c) Poll 1"
   ]
  },
  {
   "cell_type": "markdown",
   "metadata": {},
   "source": [
    "C: 1,2,3"
   ]
  },
  {
   "cell_type": "markdown",
   "metadata": {},
   "source": [
    "d) Given the hypothesis (x, 2x, 3x), for each of the following, determine whether they are positive or negative examples:\n",
    "\n",
    "- (2, 4, 6) Positive  \n",
    "- (6, 8 , 10) Positive  \n",
    "- (1, 3, 5) Negative"
   ]
  },
  {
   "cell_type": "markdown",
   "metadata": {},
   "source": [
    "e) Poll 2"
   ]
  },
  {
   "cell_type": "markdown",
   "metadata": {},
   "source": [
    "C: 1,2,3"
   ]
  },
  {
   "cell_type": "markdown",
   "metadata": {},
   "source": [
    "f) Describe steps of a Data Science Workflow"
   ]
  },
  {
   "cell_type": "markdown",
   "metadata": {},
   "source": [
    "1) First ask what and who the model is used for.  \n",
    "When completing steps 2-5, you can go back to previous steps at any time.  \n",
    "2) Process Data: What data should and shouldn't be used. There's a lot of data that should have correlative effects, but necessarily predictors. What should you do with missing and incosisntent data.  \n",
    "3) Explore Data: Really try to understand what's happening in the data set. Describe, contexualize, and visualize data. Be curious. Become the expert.  \n",
    "4) Extract Features: Figure out what kind of things you want to put in a model.  \n",
    "5) Create Model: Use an appropriate model for your data. Garbage in garbage out. Even if you use the best techniques, you won't have good results if you don't properly complete the previous steps. "
   ]
  },
  {
   "cell_type": "markdown",
   "metadata": {},
   "source": [
    "g) Give a real world example for each of the following data types:\n",
    "\n",
    "- record: m-dimensional points/ vectors. (name, age, balance) -> (\"Emmalee\", 20, 3300)\n",
    "- graph:nodes connected by edges. A triangle with points represented by an adjacency matrix/ list.\n",
    "- image: a matrix with pixels holding a stick figure.\n",
    "- text: Corpus of documents. Stored in a big matrix where each column is a specific word and each row is a specific document."
   ]
  },
  {
   "cell_type": "markdown",
   "metadata": {},
   "source": [
    "h) Give a real world example of unsupervised learning"
   ]
  },
  {
   "cell_type": "markdown",
   "metadata": {},
   "source": [
    "When deciding airport flight prices, you may realize there's not a difference in popularity between 900 and 950 but the brackets the prices are in."
   ]
  },
  {
   "cell_type": "markdown",
   "metadata": {},
   "source": [
    "i) Give a real world example of supervised learning"
   ]
  },
  {
   "cell_type": "markdown",
   "metadata": {},
   "source": [
    "Classification. Trying to predict if a tumor is benign or malignant based on age and tumor"
   ]
  }
 ],
 "metadata": {
  "kernelspec": {
   "display_name": "Python 3 (ipykernel)",
   "language": "python",
   "name": "python3"
  },
  "language_info": {
   "codemirror_mode": {
    "name": "ipython",
    "version": 3
   },
   "file_extension": ".py",
   "mimetype": "text/x-python",
   "name": "python",
   "nbconvert_exporter": "python",
   "pygments_lexer": "ipython3",
   "version": "3.9.13"
  },
  "vscode": {
   "interpreter": {
    "hash": "e7370f93d1d0cde622a1f8e1c04877d8463912d04d973331ad4851f04de6915a"
   }
  }
 },
 "nbformat": 4,
 "nbformat_minor": 2
}
