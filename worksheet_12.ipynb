{
 "cells": [
  {
   "cell_type": "markdown",
   "metadata": {},
   "source": [
    "# Worksheet 12\n",
    "\n",
    "Name: Emmalee Gomez  \n",
    "UID: U76971767\n",
    "\n",
    "### Topics\n",
    "\n",
    "- Introduction to Classification\n",
    "- K Nearest Neighbors\n",
    "\n",
    "### Introduction to Classification\n",
    "\n",
    "a) For the following examples, say whether they are or aren't an example of classification.\n",
    "\n",
    "1. Predicting whether a student will be offered a job after graduating given their GPA.\n",
    "2. Predicting how long it will take (in number of months) for a student to be offered a job after graduating, given their GPA.\n",
    "3. Predicting the number of stars (1-5) a person will assign in their yelp review given the description they wrote in the review.\n",
    "4. Predicting the number of births occuring in a specified minute."
   ]
  },
  {
   "cell_type": "markdown",
   "metadata": {},
   "source": [
    "1. Classification\n",
    "2. Not Classification\n",
    "3. Classification\n",
    "4. Not Classification"
   ]
  },
  {
   "cell_type": "markdown",
   "metadata": {},
   "source": [
    "b) Given a dataset, how would you set things up such that you can both learn a model and get an idea of how this model might perform on data it has never seen?"
   ]
  },
  {
   "cell_type": "markdown",
   "metadata": {},
   "source": [
    "You split the data set into a training set, quizzing set, and a testing set. Most of the data you allocate is to the training set, so it can come up with features. You then tune those feature using the quizzing set. The training set ensures that your model works for general groups, and you don't make adjustments based on the testing set."
   ]
  },
  {
   "cell_type": "markdown",
   "metadata": {},
   "source": [
    "c) In your own words, briefly explain:\n",
    "\n",
    "- underfitting\n",
    "- overfitting\n",
    "\n",
    "and what signs to look out for for each."
   ]
  },
  {
   "cell_type": "markdown",
   "metadata": {},
   "source": [
    "Underfitting: Making too many mistakes because of the model's simplicity  \n",
    "Overfitting: High complexity, no mistakes."
   ]
  },
  {
   "cell_type": "markdown",
   "metadata": {},
   "source": [
    "### K Nearest Neighbors"
   ]
  },
  {
   "cell_type": "code",
   "execution_count": 44,
   "metadata": {},
   "outputs": [],
   "source": [
    "import numpy as np\n",
    "import matplotlib.pyplot as plt\n",
    "\n",
    "data = {\n",
    "    \"Attribute A\" : [3.5, 0, 1, 2.5, 2, 1.5, 2, 3.5, 1, 3, 2, 2, 2.5, 0.5, 0., 10],\n",
    "    \"Attribute B\" : [4, 1.5, 2, 1, 3.5, 2.5, 1, 0, 3, 1.5, 4, 2, 2.5, 0.5, 2.5, 10],\n",
    "    \"Class\" : [1, 0, 1, 0, 1, 0, 1, 0, 1, 0, 1, 0, 0, 1, 1, 0],\n",
    "}"
   ]
  },
  {
   "cell_type": "markdown",
   "metadata": {},
   "source": [
    "a) Plot the data in a 2D plot coloring each scatter point one of two colors depending on its corresponding class."
   ]
  },
  {
   "cell_type": "code",
   "execution_count": 45,
   "metadata": {},
   "outputs": [
    {
     "data": {
      "image/png": "[encoded data removed]",
      "text/plain": [
       "<Figure size 640x480 with 1 Axes>"
      ]
     },
     "metadata": {},
     "output_type": "display_data"
    }
   ],
   "source": [
    "colors = np.array([x for x in 'bgrcmyk'])\n",
    "plt.scatter(data[\"Attribute A\"], data[\"Attribute B\"], color=colors[data[\"Class\"]].tolist())\n",
    "plt.show()"
   ]
  },
  {
   "cell_type": "markdown",
   "metadata": {},
   "source": [
    "Outliers are points that lie far from the rest of the data. They are not necessarily invalid points however. Imagine sampling from a Normal Distribution with mean 10 and variance 1. You would expect most points you sample to be in the range [7, 13] but it's entirely possible to see 20 which, on average, should be very far from the rest of the points in the sample (unless we're VERY (un)lucky). These outliers can inhibit our ability to learn general patterns in the data since they are not representative of likely outcomes. They can still be useful in of themselves and can be analyzed in great depth depending on the problem at hand.\n",
    "\n",
    "b) Are there any points in the dataset that could be outliers? If so, please remove them from the dataset."
   ]
  },
  {
   "cell_type": "markdown",
   "metadata": {},
   "source": [
    "The point at (10, 10) is likely an outlier."
   ]
  },
  {
   "cell_type": "code",
   "execution_count": 46,
   "metadata": {},
   "outputs": [
    {
     "data": {
      "image/png": "[encoded data removed]",
      "text/plain": [
       "<Figure size 640x480 with 1 Axes>"
      ]
     },
     "metadata": {},
     "output_type": "display_data"
    }
   ],
   "source": [
    "def remove_outliers(data_dict, attribute, temp, threshold = 2):\n",
    "    data = data_dict[attribute]\n",
    "    classy = data_dict[temp]\n",
    "    mean = np.mean(data)\n",
    "    std = np.std(data)\n",
    "    filtered_data = []\n",
    "    filtered_class = []\n",
    "    for x in data:\n",
    "        if abs(x - mean) < threshold * std:\n",
    "            filtered_data.append(x)\n",
    "            filtered_class.append(classy[data.index(x)])\n",
    "    return filtered_data, filtered_class\n",
    "\n",
    "filtered_data_A, filtered_class_A = remove_outliers(data, \"Attribute A\", \"Class\")\n",
    "filtered_data_B, filtered_class_B = remove_outliers(data, \"Attribute B\", \"Class\")\n",
    "\n",
    "filtered = {\n",
    "    \"Attribute A\": filtered_data_A,\n",
    "    \"Attribute B\": filtered_data_B,\n",
    "    \"Class\": filtered_class_A,\n",
    "}\n",
    "\n",
    "colors = np.array([x for x in 'bgrcmyk'])\n",
    "plt.scatter(filtered[\"Attribute A\"], filtered[\"Attribute B\"], color=colors[filtered[\"Class\"]].tolist())\n",
    "plt.show()"
   ]
  },
  {
   "cell_type": "markdown",
   "metadata": {},
   "source": [
    "Noise points are points that could be considered invalid under the general trend in the data. These could be the result of actual errors in the data or randomness that we could attribute to oversimplification (for example if missing some information / feature about each point). Considering noise points in our model can often lead to overfitting.\n",
    "\n",
    "c) Are there any points in the dataset that could be noise points?"
   ]
  },
  {
   "cell_type": "markdown",
   "metadata": {},
   "source": [
    "(3.5, 0.25) could be a noise point."
   ]
  },
  {
   "cell_type": "markdown",
   "metadata": {},
   "source": [
    "For the following point\n",
    "\n",
    "|  A  |  B  |\n",
    "|-----|-----|\n",
    "| 0.5 |  1  |\n",
    "\n",
    "d) Plot it in a different color along with the rest of the points in the dataset."
   ]
  },
  {
   "cell_type": "code",
   "execution_count": 47,
   "metadata": {},
   "outputs": [
    {
     "data": {
      "image/png": "[encoded data removed]",
      "text/plain": [
       "<Figure size 640x480 with 1 Axes>"
      ]
     },
     "metadata": {},
     "output_type": "display_data"
    }
   ],
   "source": [
    "copy_a = filtered[\"Attribute A\"].copy()\n",
    "copy_b = filtered[\"Attribute B\"].copy()\n",
    "copy_c = filtered[\"Class\"].copy()\n",
    "\n",
    "filtered[\"Attribute A\"].append(0.5)\n",
    "filtered[\"Attribute B\"].append(1)\n",
    "filtered[\"Class\"].append(2)\n",
    "\n",
    "colors = np.array([x for x in 'bgrcmyk'])\n",
    "plt.scatter(filtered[\"Attribute A\"], filtered[\"Attribute B\"], color=colors[filtered[\"Class\"]].tolist())\n",
    "plt.show()"
   ]
  },
  {
   "cell_type": "markdown",
   "metadata": {},
   "source": [
    "e) Write a function to compute the Euclidean distance from it to all points in the dataset and pick the 3 closest points to it. In a scatter plot, draw a circle centered around the point with radius the distance of the farthest of the three points."
   ]
  },
  {
   "cell_type": "code",
   "execution_count": 48,
   "metadata": {},
   "outputs": [
    {
     "name": "stdout",
     "output_type": "stream",
     "text": [
      "[(0.5, 0.5), (0, 1.5), (1, 2)]\n"
     ]
    },
    {
     "data": {
      "image/png": "[encoded data removed]",
      "text/plain": [
       "<Figure size 640x480 with 1 Axes>"
      ]
     },
     "metadata": {},
     "output_type": "display_data"
    }
   ],
   "source": [
    "import math\n",
    "\n",
    "def euclidean_distance(point1, point2):\n",
    "    return np.linalg.norm(np.array(point1) - np.array(point2))\n",
    "\n",
    "def n_closest_to(point, attribute_a, attribute_b, n):\n",
    "    close = n*[math.inf]\n",
    "    three_points = n*[(-1, -1)]\n",
    "    for x in range(len(attribute_a)):\n",
    "        other_point = (attribute_a[x], attribute_b[x])\n",
    "        distance = euclidean_distance(point, other_point)\n",
    "        if distance < close[0]:\n",
    "            close[2] = close[1]\n",
    "            close[1] = close[0]\n",
    "            close[0] = distance\n",
    "            three_points[2] = three_points[1]\n",
    "            three_points[1] = three_points[0]\n",
    "            three_points[0] = other_point\n",
    "        elif distance < close[1]:\n",
    "            close[2] = close[1]\n",
    "            close[1] = distance\n",
    "            three_points[2] = three_points[1]\n",
    "            three_points[1] = other_point\n",
    "        elif distance < close[2]:\n",
    "            close[2] = distance\n",
    "            three_points[2] = other_point\n",
    "    print(three_points)\n",
    "    return three_points\n",
    "\n",
    "location = (0.5 , 1)\n",
    "\n",
    "_, axes = plt.subplots()\n",
    "colors = np.array([x for x in 'bgrcmyk'])\n",
    "axes.scatter(filtered[\"Attribute A\"], filtered[\"Attribute B\"], color=colors[filtered[\"Class\"]].tolist())\n",
    "\n",
    "res = n_closest_to(location, copy_a, copy_b, 3)\n",
    "\n",
    "\n",
    "radius = euclidean_distance(location, res[2])\n",
    "#axes.scatter(*zip(*res), color=\"blue\")\n",
    "cir = plt.Circle(location, radius, fill = False, alpha=0.8)\n",
    "axes.add_patch(cir)\n",
    "axes.set_aspect('equal')\n",
    "plt.show()"
   ]
  },
  {
   "cell_type": "markdown",
   "metadata": {},
   "source": [
    "f) Write a function that takes the three points returned by your function in e) and returns the class that the majority of points have (break ties with a deterministic default class of your choosing). Print the class assigned to this new point by your function."
   ]
  },
  {
   "cell_type": "code",
   "execution_count": 42,
   "metadata": {},
   "outputs": [
    {
     "name": "stdout",
     "output_type": "stream",
     "text": [
      "Majority class: 1\n"
     ]
    }
   ],
   "source": [
    "def majority(three_points, data):\n",
    "    class_counts = {0: 0, 1: 0}\n",
    "    for point in three_points:\n",
    "        point_class = data[\"Class\"][data[\"Attribute A\"].index(point[0])]\n",
    "        class_counts[point_class] += 1\n",
    "    majority_class = max(class_counts, key=class_counts.get)\n",
    "    return majority_class\n",
    "\n",
    "location = (0.5, 1)\n",
    "three_closest_points = [(0, 1), (1, 2), (2, 3)]\n",
    "\n",
    "result = majority(three_closest_points, filtered)\n",
    "\n",
    "print(\"Majority class:\", result)"
   ]
  },
  {
   "cell_type": "markdown",
   "metadata": {},
   "source": [
    "g) Re-using the functions from e) and f), you should be able to assign a class to any new point. In this exercise we will implement Leave-one-out cross validiation in order to evaluate the performance of our model.\n",
    "\n",
    "For each point in the dataset:\n",
    "\n",
    "- consider that point as your test set and the rest of the data as your training set\n",
    "- classify that point using the training set\n",
    "- keep track of whether you were correct with the use of a counter\n",
    "\n",
    "Once you've iterated through the entire dataset, divide the counter by the number of points in the dataset to report an overall testing accuracy."
   ]
  },
  {
   "cell_type": "code",
   "execution_count": 43,
   "metadata": {},
   "outputs": [
    {
     "name": "stdout",
     "output_type": "stream",
     "text": [
      "[(3.5, 4), (2, 4), (2, 3.5)]\n",
      "[(0, 1.5), (0.0, 2.5), (1, 2)]\n",
      "[(1, 2), (1.5, 2.5), (1, 3)]\n",
      "[(2.5, 1), (2, 1), (3, 1.5)]\n",
      "[(2, 3.5), (2, 4), (1.5, 2.5)]\n",
      "[(1.5, 2.5), (1, 2), (1, 3)]\n",
      "[(2, 1), (2.5, 1), (2, 2)]\n",
      "[(3.5, 0), (2.5, 1), (3, 1.5)]\n",
      "[(1, 3), (1.5, 2.5), (1, 2)]\n",
      "[(3, 1.5), (2.5, 1), (2, 1)]\n",
      "[(2, 4), (2, 3.5), (1, 3)]\n",
      "[(2, 2), (1.5, 2.5), (2.5, 2.5)]\n",
      "[(2.5, 2.5), (2, 2), (1.5, 2.5)]\n",
      "[(0.5, 0.5), (0, 1.5), (1, 2)]\n",
      "[(0.0, 2.5), (0, 1.5), (1, 2)]\n",
      "overall accuracy =  0.8\n"
     ]
    }
   ],
   "source": [
    "count = 0\n",
    "for i in range(len(filtered[\"Attribute A\"])):\n",
    "    actual_class = filtered[\"Class\"][i]\n",
    "    training_set = n_closest_to((filtered[\"Attribute A\"][i], filtered[\"Attribute B\"][i]), filtered[\"Attribute A\"], filtered[\"Attribute B\"], 3)\n",
    "    prediction = majority(training_set, filtered)\n",
    "    if prediction == actual_class:\n",
    "        count += 1\n",
    "\n",
    "print(\"overall accuracy = \", count / len(filtered[\"Attribute A\"]))"
   ]
  }
 ],
 "metadata": {
  "interpreter": {
   "hash": "76ca05dc3ea24b2e3b98cdb7774adfbb40773424bf5109b477fd793f623715af"
  },
  "kernelspec": {
   "display_name": "Python 3 (ipykernel)",
   "language": "python",
   "name": "python3"
  },
  "language_info": {
   "codemirror_mode": {
    "name": "ipython",
    "version": 3
   },
   "file_extension": ".py",
   "mimetype": "text/x-python",
   "name": "python",
   "nbconvert_exporter": "python",
   "pygments_lexer": "ipython3",
   "version": "3.9.13"
  }
 },
 "nbformat": 4,
 "nbformat_minor": 2
}
