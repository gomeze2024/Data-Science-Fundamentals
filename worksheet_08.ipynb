{
 "cells": [
  {
   "cell_type": "markdown",
   "metadata": {},
   "source": [
    "# Worksheet 08\n",
    "\n",
    "Name:  Emmalee Gomez  \n",
    "UID:  U76971767\n",
    "\n",
    "### Topics\n",
    "\n",
    "- Soft Clustering\n",
    "- Clustering Aggregation\n",
    "\n",
    "### Probability Review\n",
    "\n",
    "Read through [the following](https://medium.com/@gallettilance/overview-of-probability-3272b72c82c8)\n",
    "\n",
    "### Soft Clustering\n",
    "\n",
    "We generate 10 data points that come from a normal distribution with mean 5 and variance 1."
   ]
  },
  {
   "cell_type": "code",
   "execution_count": 2,
   "metadata": {},
   "outputs": [
    {
     "name": "stdout",
     "output_type": "stream",
     "text": [
      "[6.849404067306161, 3.687708930766738, 5.3297781745427555, 3.366121086294348, 5.813868969784585, 3.7162952352755854, 7.269835964330703, 4.498135691786759, 4.425819785703776, 5.925150101013855]\n"
     ]
    }
   ],
   "source": [
    "import random\n",
    "import numpy as np\n",
    "from sklearn.cluster import KMeans\n",
    "\n",
    "mean = 5\n",
    "stdev = 1\n",
    "\n",
    "c1 = np.random.normal(mean, stdev, 10).tolist()\n",
    "print(c1)"
   ]
  },
  {
   "cell_type": "markdown",
   "metadata": {},
   "source": [
    "a) Generate 10 more data points, this time coming from a normal distribution with mean 8 and variance 1."
   ]
  },
  {
   "cell_type": "code",
   "execution_count": 3,
   "metadata": {},
   "outputs": [
    {
     "name": "stdout",
     "output_type": "stream",
     "text": [
      "[9.20916244016338, 7.5808896240989885, 8.069606160122923, 6.296627548447907, 7.991082489187591, 7.822615714494064, 8.76685854856919, 7.542397226527863, 8.791034712942688, 9.428992704290561]\n"
     ]
    }
   ],
   "source": [
    "mean = 8\n",
    "stdev = 1\n",
    "\n",
    "c2 = np.random.normal(mean, stdev , 10).tolist()\n",
    "print(c2)"
   ]
  },
  {
   "cell_type": "markdown",
   "metadata": {},
   "source": [
    "b) Flip a fair coin 10 times. If the coin lands on H, then pick the last data point of `c1` and remove it from `c1`, if T then pick the last data point from `c2` and remove it from `c2`. Add these 10 points to a list called `data`."
   ]
  },
  {
   "cell_type": "code",
   "execution_count": 4,
   "metadata": {},
   "outputs": [
    {
     "name": "stdout",
     "output_type": "stream",
     "text": [
      "[9.428992704290561, 5.925150101013855, 4.425819785703776, 8.791034712942688, 7.542397226527863, 4.498135691786759, 7.269835964330703, 8.76685854856919, 3.7162952352755854, 5.813868969784585]\n"
     ]
    }
   ],
   "source": [
    "data = []\n",
    "for i in range(10):\n",
    "    # flip coin\n",
    "    coin_output = random.choice([0, 1])\n",
    "    if coin_output == 0:\n",
    "        p1 = c1.pop()\n",
    "        data.append(p1)\n",
    "    else:\n",
    "        p2 = c2.pop()\n",
    "        data.append(p2)\n",
    "print(data)"
   ]
  },
  {
   "cell_type": "markdown",
   "metadata": {},
   "source": [
    "c) This `data` is a Gaussian Mixture Distribution with 2 mixture components. Over the next few questions we will walk through the GMM algorithm to see if we can uncover the parameters we used to generate this data. First, please list all these parameters of the GMM that created `data` and the values we know they have."
   ]
  },
  {
   "cell_type": "markdown",
   "metadata": {},
   "source": [
    "mean and variance."
   ]
  },
  {
   "cell_type": "markdown",
   "metadata": {},
   "source": [
    "d) Let's assume there are two mixture components (note: we could plot the data and make the observation that there are two clusters). The EM algorithm asks us to start with a random `mean_j`, `variance_j`, `P(C_j)` for each component j. One method we could use to find sensible values for these is to apply K means with k=2 here.\n",
    "\n",
    "1. the centroids would be the estimates of the `mean_j`\n",
    "2. the intra-cluster variance could be the estimate of `variance_j`\n",
    "3. the proportion of points in each cluster could be the estimate of `P(C_j)`\n",
    "\n",
    "Go through this process and list the parameter estimates it gives. Are they close or far from the true values?"
   ]
  },
  {
   "cell_type": "code",
   "execution_count": 5,
   "metadata": {},
   "outputs": [
    {
     "name": "stdout",
     "output_type": "stream",
     "text": [
      "[5.925150101013855, 4.425819785703776, 4.498135691786759, 3.7162952352755854, 5.813868969784585]\n",
      "[9.428992704290561, 8.791034712942688, 7.542397226527863, 7.269835964330703, 8.76685854856919]\n",
      "P(C_1) = 0.5,  P(C_2) = 0.5\n",
      "mean_1 = 4.875853956712913,  mean_2 = 8.359823831332202\n",
      "var_1 = 0.7341345668777498,  var_2 = 12.808246481016932\n"
     ]
    }
   ],
   "source": [
    "kmeans = KMeans(2, init='k-means++').fit(X=np.array(data).reshape(-1, 1))\n",
    "\n",
    "c1 = [x[0] for x in filter(lambda x: x[1] == 0, zip(data, kmeans.labels_))]\n",
    "print(c1)\n",
    "c2 = [x[0] for x in filter(lambda x: x[1] == 1, zip(data, kmeans.labels_))]\n",
    "print(c2)\n",
    "\n",
    "prob_c = [ len(c1) / (len(c1) + len(c2)) , len(c2) / (len(c1) + len(c2)) ]\n",
    "mean = [ sum(c1)/len(c1) , sum(c2)/len(c2)]\n",
    "var = [ sum(map(lambda x : (x - mean[0])**2, c1)) / len(c1) , sum(map(lambda x : (x - mean[0])**2, c2)) / len(c2)]\n",
    "\n",
    "print(\"P(C_1) = \" + str(prob_c[0]) + \",  P(C_2) = \" + str(prob_c[1]))\n",
    "print(\"mean_1 = \" + str(mean[0]) + \",  mean_2 = \" + str(mean[1]))\n",
    "print(\"var_1 = \" + str(var[0]) + \",  var_2 = \" + str(var[1]))"
   ]
  },
  {
   "cell_type": "markdown",
   "metadata": {},
   "source": []
  },
  {
   "cell_type": "markdown",
   "metadata": {},
   "source": [
    "e) For each data point, compute `P(C_j | X_i)`. Comment on which cluster you think each point belongs to based on the estimated probabilities. How does that compare to the truth?"
   ]
  },
  {
   "cell_type": "code",
   "execution_count": 6,
   "metadata": {},
   "outputs": [
    {
     "name": "stdout",
     "output_type": "stream",
     "text": [
      "point =  9.428992704290561\n",
      "probability of observing that point if it came from cluster 0 =  2.4125462444828393e-09\n",
      "probability of observing that point if it came from cluster 1 =  0.031038969166103395\n",
      "point =  5.925150101013855\n",
      "probability of observing that point if it came from cluster 0 =  0.19567108104617226\n",
      "probability of observing that point if it came from cluster 1 =  0.030589631212765415\n",
      "point =  4.425819785703776\n",
      "probability of observing that point if it came from cluster 0 =  0.4503329036779042\n",
      "probability of observing that point if it came from cluster 1 =  0.029712211901316177\n",
      "point =  8.791034712942688\n",
      "probability of observing that point if it came from cluster 0 =  3.62363224402674e-07\n",
      "probability of observing that point if it came from cluster 1 =  0.03112965195327786\n",
      "point =  7.542397226527863\n",
      "probability of observing that point if it came from cluster 0 =  0.0007418144096563252\n",
      "probability of observing that point if it came from cluster 1 =  0.031083931333095297\n",
      "point =  4.498135691786759\n",
      "probability of observing that point if it came from cluster 0 =  0.4760487800752938\n",
      "probability of observing that point if it came from cluster 1 =  0.02976330794919704\n",
      "point =  7.269835964330703\n",
      "probability of observing that point if it came from cluster 0 =  0.002667004833316282\n",
      "probability of observing that point if it came from cluster 1 =  0.0310347169815826\n",
      "point =  8.76685854856919\n",
      "probability of observing that point if it came from cluster 0 =  4.3169981270156546e-07\n",
      "probability of observing that point if it came from cluster 1 =  0.03113157476610371\n",
      "point =  3.7162952352755854\n",
      "probability of observing that point if it came from cluster 0 =  0.15609803549788004\n",
      "probability of observing that point if it came from cluster 1 =  0.029166160150555245\n",
      "point =  5.813868969784585\n",
      "probability of observing that point if it came from cluster 0 =  0.24023110741798373\n",
      "probability of observing that point if it came from cluster 1 =  0.030538001011824877\n",
      "9.428992704290561\n",
      "Probability of coming from C_1 = 7.772635888949121e-08\n",
      "Probability of coming from C_2 = 0.9999999222736411\n",
      "\n",
      "5.925150101013855\n",
      "Probability of coming from C_1 = 0.8648036112528542\n",
      "Probability of coming from C_2 = 0.1351963887471457\n",
      "\n",
      "4.425819785703776\n",
      "Probability of coming from C_1 = 0.9381053760635278\n",
      "Probability of coming from C_2 = 0.0618946239364722\n",
      "\n",
      "8.791034712942688\n",
      "Probability of coming from C_1 = 1.1640316664119953e-05\n",
      "Probability of coming from C_2 = 0.9999883596833359\n",
      "\n",
      "7.542397226527863\n",
      "Probability of coming from C_1 = 0.023308626156082295\n",
      "Probability of coming from C_2 = 0.9766913738439178\n",
      "\n",
      "4.498135691786759\n",
      "Probability of coming from C_1 = 0.9411573810633092\n",
      "Probability of coming from C_2 = 0.05884261893669084\n",
      "\n",
      "7.269835964330703\n",
      "Probability of coming from C_1 = 0.07913556606883067\n",
      "Probability of coming from C_2 = 0.9208644339311693\n",
      "\n",
      "8.76685854856919\n",
      "Probability of coming from C_1 = 1.3866751992814665e-05\n",
      "Probability of coming from C_2 = 0.9999861332480071\n",
      "\n",
      "3.7162952352755854\n",
      "Probability of coming from C_1 = 0.8425699037611017\n",
      "Probability of coming from C_2 = 0.15743009623889828\n",
      "\n",
      "5.813868969784585\n",
      "Probability of coming from C_1 = 0.8872175589419528\n",
      "Probability of coming from C_2 = 0.11278244105804719\n",
      "\n"
     ]
    }
   ],
   "source": [
    "from scipy.stats import norm\n",
    "\n",
    "prob_c0_x = [] # P(C_0 | X_i)\n",
    "prob_c1_x = [] # P(C_1 | X_i)\n",
    "prob_x = [] # P(X_i)\n",
    "\n",
    "k = 2\n",
    "\n",
    "for p in data:\n",
    "    print(\"point = \", p)\n",
    "    pdf_i = []\n",
    "\n",
    "    for j in range(k):\n",
    "        # P(X_i | C_j)\n",
    "        pdf_i.append(norm.pdf(p, mean[j], var[j]))\n",
    "        print(\"probability of observing that point if it came from cluster \" + str(j) + \" = \", pdf_i[j])\n",
    "        # P(C_j) already computed\n",
    "        prob_c[j]\n",
    "\n",
    "    # P(X_i) = P(C_0)P(X_i | C_0) + P(C_1)P(X_i | C_1)\n",
    "    prob_x = prob_c[0] * pdf_i[0] + prob_c[1] * pdf_i[1]\n",
    "\n",
    "    # P(C_j | X_i) = P(X_i | C_j)P(C_j) / P(X_i)\n",
    "    prob_c0_x.append(pdf_i[0] * prob_c[0] / prob_x)\n",
    "    prob_c1_x.append(pdf_i[1] * prob_c[1] / prob_x)\n",
    "\n",
    "probs = zip(data, prob_c0_x, prob_c1_x)\n",
    "for p in probs:\n",
    "    print(p[0])\n",
    "    print(\"Probability of coming from C_1 = \" + str(p[1]))\n",
    "    print(\"Probability of coming from C_2 = \" + str(p[2]))\n",
    "    print()\n"
   ]
  },
  {
   "cell_type": "markdown",
   "metadata": {},
   "source": [
    "f) Having computed `P(C_j | X_i)`, update the estimates of `mean_j`, `var_j`, and `P(C_j)`. How different are these values from the original ones you got from K means? briefly comment."
   ]
  },
  {
   "cell_type": "code",
   "execution_count": 7,
   "metadata": {},
   "outputs": [
    {
     "name": "stdout",
     "output_type": "stream",
     "text": [
      "P(C_1) = 0.4576323608102674,  P(C_2) = 0.5423676391897325\n",
      "mean_1 = 4.927572296956368,  mean_2 = 8.044031456635132\n",
      "var_1 = 0.7368093535952877,  var_2 = 12.450550988987455\n"
     ]
    }
   ],
   "source": [
    "prob_c = [sum(prob_c0_x)/ len(prob_c0_x), sum(prob_c1_x) / len(prob_c1_x)]\n",
    "mean = [sum([x[0] * x[1] for x in zip(prob_c0_x, data)]) / sum(prob_c0_x), sum([x[0] * x[1] for x in zip(prob_c1_x, data)]) / sum(prob_c1_x)]\n",
    "var = [ sum(map(lambda x : (x - mean[0])**2, c1)) / len(c1) , sum(map(lambda x : (x - mean[0])**2, c2)) / len(c2)]\n",
    "\n",
    "print(\"P(C_1) = \" + str(prob_c[0]) + \",  P(C_2) = \" + str(prob_c[1]))\n",
    "print(\"mean_1 = \" + str(mean[0]) + \",  mean_2 = \" + str(mean[1]))\n",
    "print(\"var_1 = \" + str(var[0]) + \",  var_2 = \" + str(var[1]))"
   ]
  },
  {
   "cell_type": "markdown",
   "metadata": {},
   "source": [
    "The values are fairly close."
   ]
  },
  {
   "cell_type": "markdown",
   "metadata": {},
   "source": [
    "g) Update `P(C_j | X_i)`. Comment on any differences or lack thereof you observe."
   ]
  },
  {
   "cell_type": "code",
   "execution_count": 12,
   "metadata": {},
   "outputs": [
    {
     "name": "stdout",
     "output_type": "stream",
     "text": [
      "point =  9.428992704290561\n",
      "probability of observing that point if it came from cluster 0 =  4.253418125618645e-09\n",
      "probability of observing that point if it came from cluster 1 =  0.031844511341697884\n",
      "point =  5.925150101013855\n",
      "probability of observing that point if it came from cluster 0 =  0.21652345689720678\n",
      "probability of observing that point if it came from cluster 1 =  0.03158147184789056\n",
      "point =  4.425819785703776\n",
      "probability of observing that point if it came from cluster 0 =  0.42939442110212367\n",
      "probability of observing that point if it came from cluster 1 =  0.030717292947388283\n",
      "point =  8.791034712942688\n",
      "probability of observing that point if it came from cluster 0 =  5.797453675409769e-07\n",
      "probability of observing that point if it came from cluster 1 =  0.03198451921853348\n",
      "point =  7.542397226527863\n",
      "probability of observing that point if it came from cluster 0 =  0.0009970834963320561\n",
      "probability of observing that point if it came from cluster 1 =  0.032016142242842396\n",
      "point =  4.498135691786759\n",
      "probability of observing that point if it came from cluster 0 =  0.4568686131189194\n",
      "probability of observing that point if it came from cluster 1 =  0.03076866591305912\n",
      "point =  7.269835964330703\n",
      "probability of observing that point if it came from cluster 0 =  0.0034606352431870175\n",
      "probability of observing that point if it came from cluster 1 =  0.03198025210107663\n",
      "point =  8.76685854856919\n",
      "probability of observing that point if it came from cluster 0 =  6.88214345264914e-07\n",
      "probability of observing that point if it came from cluster 1 =  0.031988185385059265\n",
      "point =  3.7162952352755854\n",
      "probability of observing that point if it came from cluster 0 =  0.14018437916410267\n",
      "probability of observing that point if it came from cluster 1 =  0.03016375656754465\n",
      "point =  5.813868969784585\n",
      "probability of observing that point if it came from cluster 0 =  0.26263811230323586\n",
      "probability of observing that point if it came from cluster 1 =  0.031532211029914665\n",
      "9.428992704290561\n",
      "Probability of coming from C_1 = 1.127006440262841e-07\n",
      "Probability of coming from C_2 = 0.999999887299356\n",
      "\n",
      "5.925150101013855\n",
      "Probability of coming from C_1 = 0.8526138023801527\n",
      "Probability of coming from C_2 = 0.14738619761984725\n",
      "\n",
      "4.425819785703776\n",
      "Probability of coming from C_1 = 0.9218442168557418\n",
      "Probability of coming from C_2 = 0.07815578314425815\n",
      "\n",
      "8.791034712942688\n",
      "Probability of coming from C_1 = 1.5293742594830856e-05\n",
      "Probability of coming from C_2 = 0.9999847062574051\n",
      "\n",
      "7.542397226527863\n",
      "Probability of coming from C_1 = 0.025604755959919755\n",
      "Probability of coming from C_2 = 0.9743952440400802\n",
      "\n",
      "4.498135691786759\n",
      "Probability of coming from C_1 = 0.9260830055741194\n",
      "Probability of coming from C_2 = 0.07391699442588065\n",
      "\n",
      "7.269835964330703\n",
      "Probability of coming from C_1 = 0.08366629948224011\n",
      "Probability of coming from C_2 = 0.9163337005177599\n",
      "\n",
      "8.76685854856919\n",
      "Probability of coming from C_1 = 1.81530327458794e-05\n",
      "Probability of coming from C_2 = 0.9999818469672541\n",
      "\n",
      "3.7162952352755854\n",
      "Probability of coming from C_1 = 0.7968042991753812\n",
      "Probability of coming from C_2 = 0.20319570082461869\n",
      "\n",
      "5.813868969784585\n",
      "Probability of coming from C_1 = 0.8754346004353827\n",
      "Probability of coming from C_2 = 0.12456539956461732\n",
      "\n"
     ]
    }
   ],
   "source": [
    "from scipy.stats import norm\n",
    "\n",
    "prob_c0_x = [] # P(C_0 | X_i)\n",
    "prob_c1_x = [] # P(C_1 | X_i)\n",
    "prob_x = [] # P(X_i)\n",
    "\n",
    "k = 2\n",
    "\n",
    "for p in data:\n",
    "    print(\"point = \", p)\n",
    "    pdf_i = []\n",
    "\n",
    "    for j in range(k):\n",
    "        # P(X_i | C_j)\n",
    "        pdf_i.append(norm.pdf(p, mean[j], var[j]))\n",
    "        print(\"probability of observing that point if it came from cluster \" + str(j) + \" = \", pdf_i[j])\n",
    "        # P(C_j) already computed\n",
    "        prob_c[j]\n",
    "\n",
    "    # P(X_i) = P(C_0)P(X_i | C_0) + P(C_1)P(X_i | C_1)\n",
    "    prob_x = prob_c[0] * pdf_i[0] + prob_c[1] * pdf_i[1]\n",
    "\n",
    "    # P(C_j | X_i) = P(X_i | C_j)P(C_j) / P(X_i)\n",
    "    prob_c0_x.append(pdf_i[0] * prob_c[0] / prob_x)\n",
    "    prob_c1_x.append(pdf_i[1] * prob_c[1] / prob_x)\n",
    "\n",
    "probs = zip(data, prob_c0_x, prob_c1_x)\n",
    "for p in probs:\n",
    "    print(p[0])\n",
    "    print(\"Probability of coming from C_1 = \" + str(p[1]))\n",
    "    print(\"Probability of coming from C_2 = \" + str(p[2]))\n",
    "    print()\n"
   ]
  },
  {
   "cell_type": "markdown",
   "metadata": {},
   "source": [
    "The probabilities for both seem wrong, but they do both favor cluster 1 or 2 for each point."
   ]
  },
  {
   "cell_type": "markdown",
   "metadata": {},
   "source": [
    "h) Use `P(C_j | X_i)` to create a hard assignment - label each point as belonging to a specific cluster (0 or 1)"
   ]
  },
  {
   "cell_type": "code",
   "execution_count": 18,
   "metadata": {},
   "outputs": [
    {
     "name": "stdout",
     "output_type": "stream",
     "text": [
      "9.428992704290561\n",
      "1\n",
      "5.925150101013855\n",
      "0\n",
      "4.425819785703776\n",
      "0\n",
      "8.791034712942688\n",
      "1\n",
      "7.542397226527863\n",
      "1\n",
      "4.498135691786759\n",
      "0\n",
      "7.269835964330703\n",
      "1\n",
      "8.76685854856919\n",
      "1\n",
      "3.7162952352755854\n",
      "0\n",
      "5.813868969784585\n",
      "0\n"
     ]
    }
   ],
   "source": [
    "clusters = []\n",
    "\n",
    "probs = zip(data, prob_c0_x, prob_c1_x)\n",
    "for p in probs:\n",
    "    print(p[0])\n",
    "    label = 0 if p[1] > p[2] else 1\n",
    "    clusters.append(label)\n",
    "    \n",
    "    print(label)"
   ]
  },
  {
   "cell_type": "markdown",
   "metadata": {},
   "source": [
    "### Clustering Aggregation\n",
    "\n",
    "| Point | C | P |\n",
    "|-------|---|---|\n",
    "| A     | 0 | a |\n",
    "| B     | 0 | b |\n",
    "| C     | 2 | b |\n",
    "| D     | 1 | c |\n",
    "| E     | 1 | d |\n",
    "\n",
    "a) Fill in the following table where for each pair of points determine whether C and P agree or disagree on how to cluster that pair."
   ]
  },
  {
   "cell_type": "markdown",
   "metadata": {},
   "source": [
    "| Pair | Disagreement |\n",
    "|------|--------------|\n",
    "| A  B |      agree       |\n",
    "| A  C |      disagree      |\n",
    "| A  D |      disagree       |\n",
    "| A  E |      disagree       |\n",
    "| B  C |      agree       |\n",
    "| B  D |      disagree       |\n",
    "| B  E |      disagree       |\n",
    "| C  D |      disagree       |\n",
    "| C  E |      disagree      |\n",
    "| D  E |      agree     |\n"
   ]
  },
  {
   "cell_type": "markdown",
   "metadata": {},
   "source": [
    "As datasets become very large, this process can become computationally challenging.\n",
    "\n",
    "b) Given N points, what is the formula for the number of unique pairs of points one can create?"
   ]
  },
  {
   "cell_type": "markdown",
   "metadata": {},
   "source": [
    "n choose 2"
   ]
  },
  {
   "cell_type": "markdown",
   "metadata": {},
   "source": [
    "Assume that clustering C clusters all points in the same cluster and clustering P clusters points as such:\n",
    "\n",
    "| Point | P |\n",
    "|-------|---|\n",
    "| A     | 0 |\n",
    "| B     | 0 |\n",
    "| C     | 0 |\n",
    "| D     | 1 |\n",
    "| E     | 1 |\n",
    "| F     | 2 |\n",
    "| G     | 2 |\n",
    "| H     | 2 |\n",
    "| I     | 2 |\n",
    "\n",
    "c) What is the maximum number of disagreements there could be for a dataset of this size? (use the formula from b)?"
   ]
  },
  {
   "cell_type": "markdown",
   "metadata": {},
   "source": [
    "36"
   ]
  },
  {
   "cell_type": "markdown",
   "metadata": {},
   "source": [
    "d) If we look at cluster 0. There are (3 x 2) / 2 = 3 pairs that agree with C (since all points in C are in the same cluster). For each cluster, determine how many agreements there are. How many total agreements are there? How many disagreements does that mean there are between C and P?"
   ]
  },
  {
   "cell_type": "markdown",
   "metadata": {},
   "source": [
    "- Cluster 1 has 1 agreements\n",
    "- Cluster 2 has 6 agreements\n",
    "- There would be 10 total agreements\n",
    "- Between C and P, 21 disagreements"
   ]
  },
  {
   "cell_type": "markdown",
   "metadata": {},
   "source": [
    "e) Assuming that filtering the dataset by cluster number is a computationally easy operation, describe an algorithm inspired by the above process that can efficiently compute disagreement distances on large datasets."
   ]
  },
  {
   "cell_type": "markdown",
   "metadata": {},
   "source": [
    "Run a for loop from 0 to num points length. Then run a for loop from number of the previous loop to points length. Then compare each and see if they agree or disagree."
   ]
  }
 ],
 "metadata": {
  "interpreter": {
   "hash": "76ca05dc3ea24b2e3b98cdb7774adfbb40773424bf5109b477fd793f623715af"
  },
  "kernelspec": {
   "display_name": "Python 3 (ipykernel)",
   "language": "python",
   "name": "python3"
  },
  "language_info": {
   "codemirror_mode": {
    "name": "ipython",
    "version": 3
   },
   "file_extension": ".py",
   "mimetype": "text/x-python",
   "name": "python",
   "nbconvert_exporter": "python",
   "pygments_lexer": "ipython3",
   "version": "3.9.13"
  }
 },
 "nbformat": 4,
 "nbformat_minor": 2
}
